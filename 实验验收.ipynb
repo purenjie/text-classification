{
 "cells": [
  {
   "cell_type": "code",
   "execution_count": 1,
   "metadata": {},
   "outputs": [],
   "source": [
    "import pickle\n",
    "from sklearn.model_selection import train_test_split\n",
    "from sklearn.feature_extraction.text import CountVectorizer\n",
    "from sklearn.naive_bayes import MultinomialNB\n",
    "from sklearn.feature_extraction.text import TfidfVectorizer\n",
    "from sklearn.model_selection import GridSearchCV\n",
    "import numpy as np\n",
    "import datetime\n",
    "from sklearn.metrics import accuracy_score\n",
    "from sklearn.metrics import precision_score\n",
    "from sklearn.metrics import recall_score\n",
    "from sklearn.metrics import f1_score\n",
    "from sklearn.metrics import confusion_matrix\n",
    "import matplotlib.pyplot as plt\n",
    "import itertools\n",
    "from sklearn.metrics import classification_report"
   ]
  },
  {
   "cell_type": "code",
   "execution_count": 2,
   "metadata": {},
   "outputs": [],
   "source": [
    "with open('../pre_processed_data/concat_10_data_plus_vam.pkl', 'rb') as f:\n",
    "    data = pickle.load(f)  # 1042326\n",
    "    label = pickle.load(f)  # 1042326"
   ]
  },
  {
   "cell_type": "markdown",
   "metadata": {},
   "source": [
    "`data` 是一个 `list`，每一项的形式如下所示\n",
    "'新品 口碑 产品 护肤 效果 附件 日本 贵妇 品牌 肌肤 之匙 时候 附件 肌肤 黄金 闺蜜 价格 太值 质地 有点 附件 樱桃 样子'"
   ]
  },
  {
   "cell_type": "code",
   "execution_count": 3,
   "metadata": {},
   "outputs": [
    {
     "name": "stdout",
     "output_type": "stream",
     "text": [
      "1042326\n",
      "1042326\n"
     ]
    }
   ],
   "source": [
    "print(len(data))\n",
    "print(len(label))"
   ]
  },
  {
   "cell_type": "code",
   "execution_count": 4,
   "metadata": {},
   "outputs": [],
   "source": [
    "x_train, x_test, y_train, y_test = train_test_split(data, label, random_state=42, test_size=0.7)"
   ]
  },
  {
   "cell_type": "code",
   "execution_count": 5,
   "metadata": {},
   "outputs": [
    {
     "name": "stdout",
     "output_type": "stream",
     "text": [
      "312697\n",
      "729629\n"
     ]
    }
   ],
   "source": [
    "print(len(x_train))\n",
    "print(len(x_test))"
   ]
  },
  {
   "cell_type": "code",
   "execution_count": 6,
   "metadata": {},
   "outputs": [],
   "source": [
    "# 词袋模型训练词向量\n",
    "bow = CountVectorizer()\n",
    "x_train = bow.fit_transform(x_train)  # csr_matrix (312697, 616910)\n",
    "x_test = bow.transform(x_test)  # csr_matrix (729629, 616910)"
   ]
  },
  {
   "cell_type": "code",
   "execution_count": 7,
   "metadata": {},
   "outputs": [
    {
     "name": "stdout",
     "output_type": "stream",
     "text": [
      "(312697, 616910)\n",
      "(729629, 616910)\n"
     ]
    }
   ],
   "source": [
    "print(x_train.shape)\n",
    "print(x_test.shape)"
   ]
  },
  {
   "cell_type": "code",
   "execution_count": 8,
   "metadata": {},
   "outputs": [
    {
     "name": "stderr",
     "output_type": "stream",
     "text": [
      "/home/solejay/anaconda3/envs/ml/lib/python3.7/site-packages/sklearn/model_selection/_split.py:1978: FutureWarning: The default value of cv will change from 3 to 5 in version 0.22. Specify it explicitly to silence this warning.\n",
      "  warnings.warn(CV_WARNING, FutureWarning)\n"
     ]
    }
   ],
   "source": [
    "# 采用交叉验证对朴素贝叶斯进行调参\n",
    "train_starttime = datetime.datetime.now()\n",
    "parameters = {'fit_prior': [True, False], 'alpha': np.logspace(-5, 1, num=10, base=2)}\n",
    "grid_search = GridSearchCV(MultinomialNB(), parameters)\n",
    "grid_search.fit(x_train, y_train)\n",
    "train_endtime = datetime.datetime.now()"
   ]
  },
  {
   "cell_type": "code",
   "execution_count": 9,
   "metadata": {},
   "outputs": [],
   "source": [
    "test_starttime = datetime.datetime.now()\n",
    "y_pred = grid_search.predict(x_test)\n",
    "test_endtime = datetime.datetime.now()"
   ]
  },
  {
   "cell_type": "code",
   "execution_count": 10,
   "metadata": {},
   "outputs": [],
   "source": [
    "train_time = train_endtime - train_starttime\n",
    "test_time = test_endtime - test_starttime"
   ]
  },
  {
   "cell_type": "code",
   "execution_count": 11,
   "metadata": {},
   "outputs": [
    {
     "name": "stdout",
     "output_type": "stream",
     "text": [
      "0:02:03.763955\n",
      "0:00:03.053667\n"
     ]
    }
   ],
   "source": [
    "print(train_time)\n",
    "print(test_time)"
   ]
  },
  {
   "cell_type": "code",
   "execution_count": 12,
   "metadata": {},
   "outputs": [],
   "source": [
    "# 绘制混淆矩阵\n",
    "def plot_confusion_matrix(cm, classes, savename=None, normalize=True, title='Confusion matrix', cmap=plt.cm.Blues):\n",
    "    \"\"\"\n",
    "    This function prints and plots the confusion matrix.\n",
    "    Normalization can be applied by setting `normalize=True`.\n",
    "    Input\n",
    "    - cm : 计算出的混淆矩阵的值\n",
    "    - classes : 混淆矩阵中每一行每一列对应的列\n",
    "    - normalize : True:显示百分比, False:显示个数\n",
    "    \"\"\"\n",
    "    if normalize:\n",
    "        cm = cm.astype('float') / cm.sum(axis=1)[:, np.newaxis]\n",
    "        print(\"Normalized confusion matrix\")\n",
    "    else:\n",
    "        print('Confusion matrix, without normalization')\n",
    "    print(cm)\n",
    "    plt.imshow(cm, interpolation='nearest', cmap=cmap)\n",
    "    plt.title(title)\n",
    "    plt.colorbar()\n",
    "    tick_marks = np.arange(len(classes))\n",
    "    plt.xticks(tick_marks, classes, rotation=45)\n",
    "    plt.yticks(tick_marks, classes)\n",
    "    fmt = '.2f' if normalize else 'd'\n",
    "    thresh = cm.max() / 2.\n",
    "    for i, j in itertools.product(range(cm.shape[0]), range(cm.shape[1])):\n",
    "        plt.text(j, i, format(cm[i, j], fmt),\n",
    "                 horizontalalignment=\"center\",\n",
    "                 color=\"white\" if cm[i, j] > thresh else \"black\")\n",
    "    plt.tight_layout()\n",
    "    plt.ylabel('True label')\n",
    "    plt.xlabel('Predicted label')\n",
    "#     plt.savefig('../result/%s.png' % savename)\n",
    "    plt.show()"
   ]
  },
  {
   "cell_type": "code",
   "execution_count": 13,
   "metadata": {},
   "outputs": [],
   "source": [
    "labels = ['culture', 'medical', 'automobile', 'dressing', 'entertainment', 'finance', 'life', 'military', 'social',\n",
    "          'sports']"
   ]
  },
  {
   "cell_type": "code",
   "execution_count": 14,
   "metadata": {},
   "outputs": [],
   "source": [
    "y_true = y_test"
   ]
  },
  {
   "cell_type": "code",
   "execution_count": 23,
   "metadata": {},
   "outputs": [
    {
     "name": "stdout",
     "output_type": "stream",
     "text": [
      "Normalized confusion matrix\n",
      "[[9.34148700e-01 3.99057516e-03 7.35464364e-04 3.86799777e-03\n",
      "  1.70927366e-02 1.39465835e-02 1.36197104e-05 3.32320935e-03\n",
      "  1.72016943e-02 5.67941926e-03]\n",
      " [2.88113863e-05 8.78646441e-01 7.20284656e-05 5.10969935e-02\n",
      "  9.93992826e-04 3.94715992e-02 2.73708169e-04 2.16229454e-02\n",
      "  4.36492502e-03 3.42855496e-03]\n",
      " [2.65020009e-05 2.50443909e-03 9.63626004e-01 1.20981634e-02\n",
      "  1.06008004e-04 2.05390507e-02 5.96295020e-04 3.04773010e-04\n",
      "  7.95060027e-05 1.19259004e-04]\n",
      " [2.63272006e-04 3.62541039e-02 6.96896488e-04 9.38301431e-01\n",
      "  1.23892709e-03 1.36591712e-02 0.00000000e+00 4.18137893e-03\n",
      "  1.13052097e-03 4.27429846e-03]\n",
      " [1.39553707e-05 0.00000000e+00 1.39553707e-05 0.00000000e+00\n",
      "  9.95590103e-01 0.00000000e+00 1.95375190e-04 0.00000000e+00\n",
      "  4.18661122e-03 0.00000000e+00]\n",
      " [1.54819422e-03 5.11838347e-02 2.15412540e-02 4.47641673e-02\n",
      "  1.88185677e-03 7.96706083e-01 2.59455997e-02 6.99356699e-03\n",
      "  4.54982249e-02 3.93721806e-03]\n",
      " [0.00000000e+00 9.81244218e-05 4.20533236e-05 0.00000000e+00\n",
      "  3.50444363e-04 3.22408814e-04 9.72833553e-01 5.60710982e-05\n",
      "  2.62973450e-02 0.00000000e+00]\n",
      " [6.95289414e-05 2.23999073e-02 0.00000000e+00 4.42667594e-03\n",
      "  1.21675647e-03 5.63184426e-03 5.67819688e-04 9.58838867e-01\n",
      "  6.26919288e-03 5.79407845e-04]\n",
      " [2.64410365e-05 5.42041248e-04 0.00000000e+00 1.98307774e-04\n",
      "  3.50872554e-02 6.61025912e-04 9.55843469e-03 6.61025912e-05\n",
      "  9.53847171e-01 1.32205182e-05]\n",
      " [5.38156813e-04 5.65064654e-03 1.49488004e-04 1.45900292e-02\n",
      "  5.53105613e-04 1.52926228e-02 1.94334405e-04 3.01965767e-03\n",
      "  1.37528963e-03 9.58636669e-01]]\n"
     ]
    },
    {
     "data": {
      "image/png": "[encoded data removed]",
      "text/plain": [
       "<Figure size 432x288 with 2 Axes>"
      ]
     },
     "metadata": {
      "needs_background": "light"
     },
     "output_type": "display_data"
    }
   ],
   "source": [
    "# 打印混淆矩阵\n",
    "matrix = confusion_matrix(y_true, y_pred)\n",
    "plot_confusion_matrix(matrix, classes=labels)"
   ]
  },
  {
   "cell_type": "markdown",
   "metadata": {},
   "source": [
    "左上角为0.94"
   ]
  },
  {
   "cell_type": "code",
   "execution_count": 24,
   "metadata": {},
   "outputs": [
    {
     "name": "stdout",
     "output_type": "stream",
     "text": [
      "               precision    recall  f1-score   support\n",
      "\n",
      "      culture       1.00      0.93      0.96     73423\n",
      "      medical       0.87      0.88      0.87     69417\n",
      "   automobile       0.98      0.96      0.97     75466\n",
      "     dressing       0.86      0.94      0.90     64572\n",
      "entertainment       0.94      1.00      0.97     71657\n",
      "      finance       0.88      0.80      0.84     74926\n",
      "         life       0.96      0.97      0.97     71338\n",
      "     military       0.97      0.96      0.96     86295\n",
      "       social       0.90      0.95      0.93     75640\n",
      "       sports       0.98      0.96      0.97     66895\n",
      "\n",
      "     accuracy                           0.94    729629\n",
      "    macro avg       0.93      0.94      0.93    729629\n",
      " weighted avg       0.94      0.94      0.93    729629\n",
      "\n"
     ]
    }
   ],
   "source": [
    "print(classification_report(y_true, y_pred, target_names=labels))"
   ]
  }
 ],
 "metadata": {
  "kernelspec": {
   "display_name": "Python 3",
   "language": "python",
   "name": "python3"
  },
  "language_info": {
   "codemirror_mode": {
    "name": "ipython",
    "version": 3
   },
   "file_extension": ".py",
   "mimetype": "text/x-python",
   "name": "python",
   "nbconvert_exporter": "python",
   "pygments_lexer": "ipython3",
   "version": "3.7.4"
  }
 },
 "nbformat": 4,
 "nbformat_minor": 2
}
